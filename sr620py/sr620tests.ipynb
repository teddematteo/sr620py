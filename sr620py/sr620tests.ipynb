{
 "cells": [
  {
   "cell_type": "code",
   "execution_count": 17,
   "metadata": {},
   "outputs": [],
   "source": [
    "from sr620 import *"
   ]
  },
  {
   "cell_type": "code",
   "execution_count": 18,
   "metadata": {},
   "outputs": [
    {
     "name": "stdout",
     "output_type": "stream",
     "text": [
      "-------------------------------------\n",
      "***SR620 parameters configuration***\n",
      "Mode: freq\n",
      "Source: A\n",
      "Arming: 1cs\n",
      "NumOfSamples: 100.0\n",
      "TypeOfJitter: ALL\n",
      "Clock: ext\n",
      "ClockFrequency: 10mhz\n",
      "-------------------------------------\n",
      "-------------------------------------\n",
      "Measuring...\n"
     ]
    },
    {
     "name": "stderr",
     "output_type": "stream",
     "text": [
      "100%|██████████| 1110/1110 [00:11<00:00, 95.53it/s]\n"
     ]
    },
    {
     "name": "stdout",
     "output_type": "stream",
     "text": [
      "Measure completed!...\n",
      "-------------------------------------\n",
      "File saved in tests/allan.csv\n"
     ]
    }
   ],
   "source": [
    "device = SR620('/dev/ttyUSB1')\n",
    "device.set_custom_configuration(\n",
    "    mode='freq',\n",
    "    source='A',\n",
    "    jitter='ALL',\n",
    "    arming='1cs',\n",
    "    size=100,\n",
    "    clock='ext',\n",
    "    clockfr='10mhz'\n",
    ")\n",
    "print(device)\n",
    "#device.start_measurement_set('jitter',1,file_path='tests/meas.csv',progress=False)\n",
    "device.start_measurement_allan_variance(3,file_path='tests/allan.csv')\n",
    "device.close_connection()"
   ]
  }
 ],
 "metadata": {
  "kernelspec": {
   "display_name": ".venv",
   "language": "python",
   "name": "python3"
  },
  "language_info": {
   "codemirror_mode": {
    "name": "ipython",
    "version": 3
   },
   "file_extension": ".py",
   "mimetype": "text/x-python",
   "name": "python",
   "nbconvert_exporter": "python",
   "pygments_lexer": "ipython3",
   "version": "3.10.12"
  }
 },
 "nbformat": 4,
 "nbformat_minor": 2
}
