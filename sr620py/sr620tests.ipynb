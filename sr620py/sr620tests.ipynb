{
 "cells": [
  {
   "cell_type": "code",
   "execution_count": 11,
   "metadata": {},
   "outputs": [],
   "source": [
    "from sr620 import *"
   ]
  },
  {
   "cell_type": "code",
   "execution_count": 12,
   "metadata": {},
   "outputs": [
    {
     "name": "stdout",
     "output_type": "stream",
     "text": [
      "ratio,A,+time,2000.0,ALL,ext,10mhz\n"
     ]
    }
   ],
   "source": [
    "device = SR620('/dev/ttyUSB1')\n",
    "device.execute_command('JTTR 1',False)\n",
    "# device.set_custom_configuration(\n",
    "#     mode='freq',\n",
    "#     source='A',\n",
    "#     jitter='ALL',\n",
    "#     arming='1s',\n",
    "#     size=2,\n",
    "#     clock='ext',\n",
    "#     clockfr='10mhz'\n",
    "# )\n",
    "\n",
    "# device.set_mode('freq')\n",
    "# for i in range(10):\n",
    "#     print(device.measure('mean'))\n",
    "# device.close_connection()"
   ]
  }
 ],
 "metadata": {
  "kernelspec": {
   "display_name": ".venv",
   "language": "python",
   "name": "python3"
  },
  "language_info": {
   "codemirror_mode": {
    "name": "ipython",
    "version": 3
   },
   "file_extension": ".py",
   "mimetype": "text/x-python",
   "name": "python",
   "nbconvert_exporter": "python",
   "pygments_lexer": "ipython3",
   "version": "3.10.12"
  }
 },
 "nbformat": 4,
 "nbformat_minor": 2
}
