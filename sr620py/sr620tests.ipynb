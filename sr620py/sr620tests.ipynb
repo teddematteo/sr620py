{
 "cells": [
  {
   "cell_type": "code",
   "execution_count": 11,
   "metadata": {},
   "outputs": [],
   "source": [
    "from sr620 import *"
   ]
  },
  {
   "cell_type": "code",
   "execution_count": 12,
   "metadata": {},
   "outputs": [
    {
     "name": "stdout",
     "output_type": "stream",
     "text": [
      "-------------------------------------\n",
      "***SR620 parameters configuration***\n",
      "Mode: freq\n",
      "Source: A\n",
      "Arming: 1cs\n",
      "NumOfSamples: 100.0\n",
      "TypeOfJitter: ALL\n",
      "Clock: ext\n",
      "ClockFrequency: 10mhz\n",
      "-------------------------------------\n",
      "-------------------------------------\n",
      "Measuring...\n"
     ]
    },
    {
     "name": "stderr",
     "output_type": "stream",
     "text": [
      "100%|██████████| 100/100 [00:01<00:00, 95.18it/s]"
     ]
    },
    {
     "name": "stdout",
     "output_type": "stream",
     "text": [
      "Measurement completed!...\n",
      "-------------------------------------\n",
      "9999991.7551\n"
     ]
    },
    {
     "name": "stderr",
     "output_type": "stream",
     "text": [
      "\n"
     ]
    }
   ],
   "source": [
    "# device = SR620('/dev/ttyUSB1')\n",
    "# device.set_custom_configuration(\n",
    "#     mode='freq',\n",
    "#     source='A',\n",
    "#     jitter='ALL',\n",
    "#     arming='1cs',\n",
    "#     size=100,\n",
    "#     clock='ext',\n",
    "#     clockfr='10mhz'\n",
    "# )\n",
    "# print(device)\n",
    "# print(device.measure('mean'))\n",
    "# device.start_measurement_set('jitter',100,file_path='tests/meas.csv',progress=False)\n",
    "# device.start_measurement_allan_variance(3,file_path='tests/allan.csv')\n",
    "\n",
    "# device.close_connection()"
   ]
  }
 ],
 "metadata": {
  "kernelspec": {
   "display_name": ".venv",
   "language": "python",
   "name": "python3"
  },
  "language_info": {
   "codemirror_mode": {
    "name": "ipython",
    "version": 3
   },
   "file_extension": ".py",
   "mimetype": "text/x-python",
   "name": "python",
   "nbconvert_exporter": "python",
   "pygments_lexer": "ipython3",
   "version": "3.10.12"
  }
 },
 "nbformat": 4,
 "nbformat_minor": 2
}
